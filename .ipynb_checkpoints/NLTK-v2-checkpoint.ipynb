{
 "cells": [
  {
   "cell_type": "code",
   "execution_count": 3,
   "metadata": {},
   "outputs": [
    {
     "name": "stderr",
     "output_type": "stream",
     "text": [
      "[nltk_data] Downloading package punkt to /Users/peicheng/nltk_data...\n",
      "[nltk_data]   Unzipping tokenizers/punkt.zip.\n",
      "[nltk_data] Downloading package averaged_perceptron_tagger to\n",
      "[nltk_data]     /Users/peicheng/nltk_data...\n",
      "[nltk_data]   Unzipping taggers/averaged_perceptron_tagger.zip.\n",
      "[nltk_data] Downloading package universal_tagset to\n",
      "[nltk_data]     /Users/peicheng/nltk_data...\n",
      "[nltk_data]   Unzipping taggers/universal_tagset.zip.\n",
      "[nltk_data] Downloading package maxent_ne_chunker to\n",
      "[nltk_data]     /Users/peicheng/nltk_data...\n",
      "[nltk_data]   Unzipping chunkers/maxent_ne_chunker.zip.\n",
      "[nltk_data] Downloading package words to /Users/peicheng/nltk_data...\n",
      "[nltk_data]   Unzipping corpora/words.zip.\n",
      "[nltk_data] Downloading package treebank to\n",
      "[nltk_data]     /Users/peicheng/nltk_data...\n",
      "[nltk_data]   Unzipping corpora/treebank.zip.\n",
      "[nltk_data] Downloading package stopwords to\n",
      "[nltk_data]     /Users/peicheng/nltk_data...\n",
      "[nltk_data]   Unzipping corpora/stopwords.zip.\n"
     ]
    },
    {
     "data": {
      "text/plain": [
       "True"
      ]
     },
     "execution_count": 3,
     "metadata": {},
     "output_type": "execute_result"
    }
   ],
   "source": [
    "%matplotlib inline\n",
    "import nltk\n",
    "# these lines download the models and really only need to be run once ever\n",
    "nltk.download('punkt')\n",
    "nltk.download('averaged_perceptron_tagger')\n",
    "nltk.download('universal_tagset')\n",
    "nltk.download('maxent_ne_chunker')\n",
    "nltk.download('words') \n",
    "nltk.download('treebank')\n",
    "nltk.download('stopwords')"
   ]
  },
  {
   "cell_type": "code",
   "execution_count": 4,
   "metadata": {},
   "outputs": [],
   "source": [
    "with open('news_1.txt') as f:\n",
    "    news = f.read().strip()"
   ]
  },
  {
   "cell_type": "markdown",
   "metadata": {},
   "source": [
    "# Word Tokenization"
   ]
  },
  {
   "cell_type": "code",
   "execution_count": 5,
   "metadata": {
    "jupyter": {
     "outputs_hidden": false
    }
   },
   "outputs": [
    {
     "name": "stdout",
     "output_type": "stream",
     "text": [
      "['What', 'is', 'a', 'Hokie', '?', 'The', 'origin', 'of', 'the', 'word']\n"
     ]
    }
   ],
   "source": [
    "words = nltk.word_tokenize(news)\n",
    "print(words[0:10])"
   ]
  },
  {
   "cell_type": "markdown",
   "metadata": {},
   "source": [
    "# Sentence Tokenization"
   ]
  },
  {
   "cell_type": "code",
   "execution_count": 4,
   "metadata": {
    "jupyter": {
     "outputs_hidden": false
    }
   },
   "outputs": [
    {
     "name": "stdout",
     "output_type": "stream",
     "text": [
      "SENTENCE 0 IS : What is a Hokie?\n",
      "SENTENCE 1 IS : The origin of the word \"Hokie\" has nothing to do with a turkey.\n",
      "SENTENCE 2 IS : It was coined by O.M.\n",
      "SENTENCE 3 IS : Stull (class of 1896), who used it in a spirit yell he wrote for a competition.\n",
      "SENTENCE 4 IS : Here's how that competition came to be.\n",
      "SENTENCE 5 IS : Virginia Tech was founded in 1872 as a land-grant institution and was named Virginia Agricultural and Mechanical College.\n",
      "SENTENCE 6 IS : In 1896, the Virginia General Assembly officially changed the college's name to Virginia Agricultural and Mechanical College and Polytechnic Institute, a name so long that people shortened it in popular usage to VPI.\n",
      "SENTENCE 7 IS : The original college cheer, which made reference to the original name of the institution, was no longer suitable.\n",
      "SENTENCE 8 IS : So a contest was held to select a new spirit yell, and Stull won the $5 top prize for his cheer, now known as Old Hokie:\n",
      "\n",
      "Hoki, Hoki, Hoki, Hy.\n",
      "SENTENCE 9 IS : Techs, Techs, V.P.I.\n",
      "SENTENCE 10 IS : Sola-Rex, Sola-Rah.\n",
      "SENTENCE 11 IS : Polytechs - Vir-gin-ia.\n",
      "SENTENCE 12 IS : Rae, Ri, V.P.I.\n",
      "SENTENCE 13 IS : Later, the phrase \"Team!\n",
      "SENTENCE 14 IS : Team!\n",
      "SENTENCE 15 IS : Team!\"\n",
      "SENTENCE 16 IS : was added at the end, and an \"e\" was added to \"Hoki.\"\n"
     ]
    }
   ],
   "source": [
    "sents = nltk.sent_tokenize(news)\n",
    "for i, sent in enumerate(sents):\n",
    "    print('SENTENCE {} IS : {}'.format(i,sent))"
   ]
  },
  {
   "cell_type": "markdown",
   "metadata": {},
   "source": [
    "# Stopword Removal"
   ]
  },
  {
   "cell_type": "code",
   "execution_count": 5,
   "metadata": {
    "jupyter": {
     "outputs_hidden": false
    }
   },
   "outputs": [
    {
     "name": "stdout",
     "output_type": "stream",
     "text": [
      "SENTENCE 0 WITHOUT STOPWORDS: hokie?\n",
      "SENTENCE 1 WITHOUT STOPWORDS: origin word \"hokie\" nothing turkey.\n",
      "SENTENCE 2 WITHOUT STOPWORDS: coined o.m.\n",
      "SENTENCE 3 WITHOUT STOPWORDS: stull (class 1896), used spirit yell wrote competition.\n",
      "SENTENCE 4 WITHOUT STOPWORDS: here's competition came be.\n",
      "SENTENCE 5 WITHOUT STOPWORDS: virginia tech founded 1872 land-grant institution named virginia agricultural mechanical college.\n",
      "SENTENCE 6 WITHOUT STOPWORDS: 1896, virginia general assembly officially changed college's name virginia agricultural mechanical college polytechnic institute, name long people shortened popular usage vpi.\n",
      "SENTENCE 7 WITHOUT STOPWORDS: original college cheer, made reference original name institution, longer suitable.\n",
      "SENTENCE 8 WITHOUT STOPWORDS: contest held select new spirit yell, stull $5 top prize cheer, known old hokie: hoki, hoki, hoki, hy.\n",
      "SENTENCE 9 WITHOUT STOPWORDS: techs, techs, v.p.i.\n",
      "SENTENCE 10 WITHOUT STOPWORDS: sola-rex, sola-rah.\n",
      "SENTENCE 11 WITHOUT STOPWORDS: polytechs - vir-gin-ia.\n",
      "SENTENCE 12 WITHOUT STOPWORDS: rae, ri, v.p.i.\n",
      "SENTENCE 13 WITHOUT STOPWORDS: later, phrase \"team!\n",
      "SENTENCE 14 WITHOUT STOPWORDS: team!\n",
      "SENTENCE 15 WITHOUT STOPWORDS: team!\"\n",
      "SENTENCE 16 WITHOUT STOPWORDS: added end, \"e\" added \"hoki.\"\n"
     ]
    }
   ],
   "source": [
    "from nltk.corpus import stopwords\n",
    "sws = set(stopwords.words('english'))\n",
    "for j,sent in enumerate(sents):\n",
    "    print('SENTENCE {} WITHOUT STOPWORDS: {}'.format(j, ' '.join([i for i in sent.lower().split() if i not in sws])))"
   ]
  },
  {
   "cell_type": "markdown",
   "metadata": {},
   "source": [
    "# POS Tag"
   ]
  },
  {
   "cell_type": "code",
   "execution_count": 6,
   "metadata": {
    "jupyter": {
     "outputs_hidden": false
    }
   },
   "outputs": [
    {
     "name": "stdout",
     "output_type": "stream",
     "text": [
      "[('What', 'WP'), ('is', 'VBZ'), ('a', 'DT'), ('Hokie', 'NNP'), ('?', '.'), ('The', 'DT'), ('origin', 'NN'), ('of', 'IN'), ('the', 'DT'), ('word', 'NN')]\n"
     ]
    }
   ],
   "source": [
    "tagged_tokens = nltk.pos_tag(words)\n",
    "print(tagged_tokens[0:10])"
   ]
  },
  {
   "cell_type": "code",
   "execution_count": 7,
   "metadata": {
    "jupyter": {
     "outputs_hidden": false
    }
   },
   "outputs": [
    {
     "name": "stdout",
     "output_type": "stream",
     "text": [
      "[('What', 'PRON'), ('is', 'VERB'), ('a', 'DET'), ('Hokie', 'NOUN'), ('?', '.'), ('The', 'DET'), ('origin', 'NOUN'), ('of', 'ADP'), ('the', 'DET'), ('word', 'NOUN')]\n"
     ]
    }
   ],
   "source": [
    "tagged_tokens = nltk.pos_tag(words, tagset='universal')\n",
    "print(tagged_tokens[0:10])"
   ]
  },
  {
   "cell_type": "markdown",
   "metadata": {},
   "source": [
    "# Named-Entity Extraction"
   ]
  },
  {
   "cell_type": "code",
   "execution_count": 8,
   "metadata": {},
   "outputs": [],
   "source": [
    "from collections import defaultdict\n",
    "def nltk_entities(text):\n",
    "    \"\"\"\n",
    "    Extract entities using the NLTK named entity chunker.\n",
    "    \"\"\"\n",
    "    text = nltk.pos_tag(nltk.word_tokenize(text))\n",
    "    results = defaultdict(list)\n",
    "    lst_results = []\n",
    "    for entity in nltk.ne_chunk(text):\n",
    "        if isinstance(entity, nltk.tree.Tree):\n",
    "            etext = \" \".join([word for word, tag in entity.leaves()])\n",
    "            label = entity.label()\n",
    "        else:\n",
    "            continue\n",
    "\n",
    "        if label == 'PERSON':\n",
    "            key = 'persons'\n",
    "        elif label == 'ORGANIZATION':\n",
    "            key = 'organizations'\n",
    "        elif label == 'LOCATION':\n",
    "            key = 'locations'\n",
    "        elif label == 'GPE':\n",
    "            key = 'other'\n",
    "        else:\n",
    "            key = None\n",
    "\n",
    "        if key:\n",
    "            results[key].append(etext)\n",
    "            lst_results.append(etext)\n",
    "\n",
    "    return lst_results"
   ]
  },
  {
   "cell_type": "code",
   "execution_count": 9,
   "metadata": {
    "jupyter": {
     "outputs_hidden": false
    }
   },
   "outputs": [
    {
     "name": "stdout",
     "output_type": "stream",
     "text": [
      "Named-Entities in sentence 0: []\n",
      "Named-Entities in sentence 1: []\n",
      "Named-Entities in sentence 2: []\n",
      "Named-Entities in sentence 3: ['Stull']\n",
      "Named-Entities in sentence 4: []\n",
      "Named-Entities in sentence 5: ['Virginia', 'Tech', 'Virginia Agricultural', 'Mechanical College']\n",
      "Named-Entities in sentence 6: ['Virginia', 'Virginia', 'Mechanical College', 'Polytechnic Institute', 'VPI']\n",
      "Named-Entities in sentence 7: []\n",
      "Named-Entities in sentence 8: ['Stull', 'Old', 'Hoki', 'Hoki', 'Hoki', 'Hy']\n",
      "Named-Entities in sentence 9: ['Techs', 'Techs']\n",
      "Named-Entities in sentence 10: []\n",
      "Named-Entities in sentence 11: ['Polytechs']\n",
      "Named-Entities in sentence 12: ['Rae', 'Ri']\n",
      "Named-Entities in sentence 13: []\n",
      "Named-Entities in sentence 14: ['Team']\n",
      "Named-Entities in sentence 15: ['Team']\n",
      "Named-Entities in sentence 16: []\n"
     ]
    }
   ],
   "source": [
    "for i,sent in enumerate(sents):\n",
    "    print(\"Named-Entities in sentence {}: {}\".format(i,nltk_entities(sent)))"
   ]
  },
  {
   "cell_type": "markdown",
   "metadata": {},
   "source": [
    "# Word Stemming"
   ]
  },
  {
   "cell_type": "code",
   "execution_count": 10,
   "metadata": {
    "jupyter": {
     "outputs_hidden": false
    }
   },
   "outputs": [
    {
     "name": "stdout",
     "output_type": "stream",
     "text": [
      "SENTENCE 0 WITH STEMMING: what is a hokie?\n",
      "SENTENCE 1 WITH STEMMING: the origin of the word \"hokie\" ha noth to do with a turkey.\n",
      "SENTENCE 2 WITH STEMMING: it wa coin by o.m.\n",
      "SENTENCE 3 WITH STEMMING: stull (class of 1896), who use it in a spirit yell he wrote for a competition.\n",
      "SENTENCE 4 WITH STEMMING: here' how that competit came to be.\n",
      "SENTENCE 5 WITH STEMMING: virginia tech wa found in 1872 as a land-grant institut and wa name virginia agricultur and mechan college.\n",
      "SENTENCE 6 WITH STEMMING: in 1896, the virginia gener assembl offici chang the college' name to virginia agricultur and mechan colleg and polytechn institute, a name so long that peopl shorten it in popular usag to vpi.\n",
      "SENTENCE 7 WITH STEMMING: the origin colleg cheer, which made refer to the origin name of the institution, wa no longer suitable.\n",
      "SENTENCE 8 WITH STEMMING: so a contest wa held to select a new spirit yell, and stull won the $5 top prize for hi cheer, now known as old hokie: hoki, hoki, hoki, hy.\n",
      "SENTENCE 9 WITH STEMMING: techs, techs, v.p.i.\n",
      "SENTENCE 10 WITH STEMMING: sola-rex, sola-rah.\n",
      "SENTENCE 11 WITH STEMMING: polytech - vir-gin-ia.\n",
      "SENTENCE 12 WITH STEMMING: rae, ri, v.p.i.\n",
      "SENTENCE 13 WITH STEMMING: later, the phrase \"team!\n",
      "SENTENCE 14 WITH STEMMING: team!\n",
      "SENTENCE 15 WITH STEMMING: team!\"\n",
      "SENTENCE 16 WITH STEMMING: wa ad at the end, and an \"e\" wa ad to \"hoki.\"\n"
     ]
    }
   ],
   "source": [
    "from nltk.stem.porter import *\n",
    "stemmer = PorterStemmer()\n",
    "for j,sent in enumerate(sents):\n",
    "    print('SENTENCE {} WITH STEMMING: {}'.format(j, ' '.join([stemmer.stem(i) for i in sent.lower().split()])))"
   ]
  },
  {
   "cell_type": "markdown",
   "metadata": {},
   "source": [
    "# Twitter Analysis\n",
    "\n",
    "Besides the examples here it's worth reading the documentation on extended tweets [here](http://docs.tweepy.org/en/latest/extended_tweets.html).  Additionally you will have to supply your own credentials in the cells below."
   ]
  },
  {
   "cell_type": "code",
   "execution_count": 11,
   "metadata": {},
   "outputs": [],
   "source": [
    "from tweepy import Stream\n",
    "from tweepy import OAuthHandler\n",
    "import json\n",
    "import tweepy\n",
    "\n",
    "# --\n",
    "# Note : if conda install tweepy fails\n",
    "# Try : pip install tweepy\n",
    "# you might also try running (once and only once) in a notebook\n",
    "# import pip\n",
    "# pip.main([\"install\", \"tweepy\"])\n",
    "# --"
   ]
  },
  {
   "cell_type": "markdown",
   "metadata": {},
   "source": [
    "Streaming live tweets"
   ]
  },
  {
   "cell_type": "code",
   "execution_count": 12,
   "metadata": {},
   "outputs": [],
   "source": [
    "bearer = \"YOUR BEARER TOKEN HERE\""
   ]
  },
  {
   "cell_type": "markdown",
   "metadata": {},
   "source": [
    "This is the streaming example and will continue until you interrupt it or hits 10 tweets.  It will stream tweets in real time."
   ]
  },
  {
   "cell_type": "code",
   "execution_count": 13,
   "metadata": {
    "jupyter": {
     "outputs_hidden": false
    }
   },
   "outputs": [
    {
     "name": "stdout",
     "output_type": "stream",
     "text": [
      "Checking for and deleting old_rules...\n",
      "Adding rules...\n",
      "Starting....\n",
      "2022-03-29 17:51:51+00:00: RT @EricLopezELO: The #UCF -Florida game Wednesday on Sec Network plus w @CrooksPBP and @FranEnea10.\n",
      "Francesca joins me for Virginia Tech o…\n",
      "2022-03-29 17:52:44+00:00: RT @NCAASoftball: 🆕 @espn/ @USASoftball Collegiate Top 25 🥎\n",
      "\n",
      "1. Oklahoma \n",
      "2. UCLA \n",
      "3. Florida State\n",
      "4. Alabama\n",
      "5. Virginia Tech\n",
      "6. Northwes…\n",
      "2022-03-29 17:52:57+00:00: @NCAASoftball @espn @USASoftball We demand to know who vote who like football. It’s been ridiculous that Ucla get number 1 vote week after week. @NCAASoftball @D1Softball @USASoftball\n",
      "2022-03-29 17:54:31+00:00: RT @NCAASoftball: 🆕 @espn/ @USASoftball Collegiate Top 25 🥎\n",
      "\n",
      "1. Oklahoma \n",
      "2. UCLA \n",
      "3. Florida State\n",
      "4. Alabama\n",
      "5. Virginia Tech\n",
      "6. Northwes…\n",
      "2022-03-29 17:55:40+00:00: RT @NCAASoftball: 🆕 @espn/ @USASoftball Collegiate Top 25 🥎\n",
      "\n",
      "1. Oklahoma \n",
      "2. UCLA \n",
      "3. Florida State\n",
      "4. Alabama\n",
      "5. Virginia Tech\n",
      "6. Northwes…\n",
      "2022-03-29 17:55:54+00:00: Penn State and Coach Shrewsberry come back to his home state to pick up a huge 2023 recruit! Imes is the #4 prospect in the 2023 class and had offers from Butler, Creighton, Virginia Tech and Wake Forest! https://t.co/r0GZXs7xxu\n",
      "2022-03-29 17:56:01+00:00: @_blessed_23 Congratulations Gerard @gerard_johnsonn on your offer to @virginia_tech @HokiesFB #VT #HokieNation #VA2VT #GoHokies Great university Great football Great facilities #instate Come visit often Come be a huge part of the best university in all the land #LGH Family nearby🦃🏈💯🔥👍🇺🇸\n",
      "2022-03-29 17:56:59+00:00: RT @MarchMadnessMBB: ZION. TOOK. OVER 💪💥\n",
      "\n",
      "#OTD in 2019, @Zionwilliamson and @Dukembb put on a show vs. Virginia Tech in the #Sweet16 #March…\n",
      "2022-03-29 17:58:45+00:00: RT @NCAASoftball: 🆕 @espn/ @USASoftball Collegiate Top 25 🥎\n",
      "\n",
      "1. Oklahoma \n",
      "2. UCLA \n",
      "3. Florida State\n",
      "4. Alabama\n",
      "5. Virginia Tech\n",
      "6. Northwes…\n"
     ]
    },
    {
     "name": "stderr",
     "output_type": "stream",
     "text": [
      "Stream connection closed by Twitter\n"
     ]
    },
    {
     "name": "stdout",
     "output_type": "stream",
     "text": [
      "2022-03-29 17:59:17+00:00: RT @NCAASoftball: 🆕 @espn/ @USASoftball Collegiate Top 25 🥎\n",
      "\n",
      "1. Oklahoma \n",
      "2. UCLA \n",
      "3. Florida State\n",
      "4. Alabama\n",
      "5. Virginia Tech\n",
      "6. Northwes…\n"
     ]
    }
   ],
   "source": [
    "class Listener(tweepy.StreamingClient):\n",
    "    def __init__(self, bearer, maxtweets=10):\n",
    "        super().__init__(bearer)\n",
    "        self._maxtweets = maxtweets\n",
    "        self._ntweets = 0\n",
    "\n",
    "    def on_tweet(self, tweet):\n",
    "        text = tweet.text\n",
    "        print(\"{}: {}\".format(tweet.created_at, text))\n",
    "        self._ntweets += 1\n",
    "        if self._ntweets >= self._maxtweets:\n",
    "            self.disconnect() \n",
    "        #     return False\n",
    "        #else:\n",
    "        #    return True\n",
    "            \n",
    "twitterStream = Listener(bearer)\n",
    "\n",
    "#old rules are stored on the server so we delete them if they are there\n",
    "print(\"Checking for and deleting old_rules...\")\n",
    "old_rules = twitterStream.get_rules().data\n",
    "if old_rules:\n",
    "    old_rules = [rule.id for rule in old_rules]\n",
    "    twitterStream.delete_rules(old_rules)\n",
    "\n",
    "#add new rules\n",
    "print(\"Adding rules...\")\n",
    "twitterStream.add_rules(tweepy.StreamRule(\"Virginia Tech\"))\n",
    "print(\"Starting....\")\n",
    "twitterStream.filter(tweet_fields=[\"created_at\", \"public_metrics\", \"entities\"])"
   ]
  },
  {
   "cell_type": "markdown",
   "metadata": {},
   "source": [
    "This will search and download historical tweets:"
   ]
  },
  {
   "cell_type": "code",
   "execution_count": 31,
   "metadata": {
    "jupyter": {
     "outputs_hidden": false
    }
   },
   "outputs": [
    {
     "name": "stdout",
     "output_type": "stream",
     "text": [
      "{\n",
      "  \"author_id\": \"1131952225268523015\",\n",
      "  \"id\": \"1508866399908814858\",\n",
      "  \"created_at\": \"2022-03-29T17:59:17.000Z\",\n",
      "  \"public_metrics\": {\n",
      "    \"retweet_count\": 65,\n",
      "    \"reply_count\": 0,\n",
      "    \"like_count\": 0,\n",
      "    \"quote_count\": 0\n",
      "  },\n",
      "  \"entities\": {\n",
      "    \"mentions\": [\n",
      "      {\n",
      "        \"start\": 3,\n",
      "        \"end\": 16,\n",
      "        \"username\": \"NCAASoftball\",\n",
      "        \"id\": \"38724129\"\n",
      "      },\n",
      "      {\n",
      "        \"start\": 20,\n",
      "        \"end\": 25,\n",
      "        \"username\": \"espn\",\n",
      "        \"id\": \"2557521\"\n",
      "      },\n",
      "      {\n",
      "        \"start\": 27,\n",
      "        \"end\": 39,\n",
      "        \"username\": \"USASoftball\",\n",
      "        \"id\": \"19261228\"\n",
      "      }\n",
      "    ]\n",
      "  },\n",
      "  \"text\": \"RT @NCAASoftball: \\ud83c\\udd95 @espn/ @USASoftball Collegiate Top 25 \\ud83e\\udd4e\\n\\n1. Oklahoma \\n2. UCLA \\n3. Florida State\\n4. Alabama\\n5. Virginia Tech\\n6. Northwes\\u2026\",\n",
      "  \"author\": {\n",
      "    \"name\": \"Quinn\",\n",
      "    \"id\": \"1131952225268523015\",\n",
      "    \"public_metrics\": {\n",
      "      \"followers_count\": 6949,\n",
      "      \"following_count\": 980,\n",
      "      \"tweet_count\": 45749,\n",
      "      \"listed_count\": 14\n",
      "    },\n",
      "    \"username\": \"soonergoat\"\n",
      "  }\n",
      "}\n"
     ]
    }
   ],
   "source": [
    "client = tweepy.Client(bearer_token=bearer, wait_on_rate_limit=True)\n",
    "\n",
    "\n",
    "def get_tweets(client, input_query, n=1000):\n",
    "    page_size = 100\n",
    "    pages = n // 100 + 1\n",
    "    for tweet_batch in tweepy.Paginator(client.search_recent_tweets, input_query,\n",
    "                                  tweet_fields=[\"created_at\", \"public_metrics\", \"entities\"],\n",
    "                                   expansions=[\"author_id\"],\n",
    "                                  user_fields=[\"username\", \"public_metrics\"],\n",
    "                                  max_results=page_size, limit=pages):\n",
    "        user_lookup = {u.id: u.data for u in tweet_batch.includes[\"users\"]}\n",
    "        for tweet in tweet_batch.data:\n",
    "            data = tweet.data\n",
    "            data[\"author\"] = user_lookup[tweet.author_id]\n",
    "            yield tweet.data\n",
    "input_query = 'Virginia Tech' # -is:retweet'\n",
    "tweets = list(get_tweets(client, input_query))\n",
    "print(json.dumps(tweets[1], indent=2))"
   ]
  },
  {
   "cell_type": "code",
   "execution_count": 30,
   "metadata": {
    "jupyter": {
     "outputs_hidden": false
    }
   },
   "outputs": [],
   "source": [
    "#download english tweets in extended moded, get the first 1000\n",
    "dataset = []\n",
    "for tweet in get_tweets(client, input_query):\n",
    "    datum = {\n",
    "        \"id\": tweet[\"id\"],\n",
    "        \"username\": tweet[\"author\"][\"username\"],\n",
    "        \"user_followers_count\": tweet[\"author\"][\"public_metrics\"][\"followers_count\"],\n",
    "        \"user_following_count\": tweet[\"author\"][\"public_metrics\"][\"following_count\"],\n",
    "        \"text\": tweet[\"text\"],\n",
    "        \"created_at\": tweet[\"created_at\"],\n",
    "        \"retweet_count\": tweet[\"public_metrics\"][\"retweet_count\"],\n",
    "    }\n",
    "    \n",
    "    \n",
    "    if \"entities\" in tweet and \"mentions\" in tweet[\"entities\"]:\n",
    "        mentions = tweet[\"entities\"][\"mentions\"]\n",
    "    else:\n",
    "        mentions = []\n",
    "        \n",
    "    datum['mentioned_user_ids'] = ','.join(mention['id'] for mention in mentions)\n",
    "    datum['mentioned_user_names'] = ','.join(mention['username'] for mention in mentions)\n",
    "        \n",
    "\n",
    "    if \"entities\" in tweet and \"hashtags\" in tweet[\"entities\"]:\n",
    "        mentions = tweet[\"entities\"][\"hashtags\"]\n",
    "    else:\n",
    "        mentions = []\n",
    "    datum['hashtags'] = ','.join(mention['tag'] for mention in mentions)\n",
    "\n",
    "    if \"entities\" in tweet and \"urls\" in tweet[\"entities\"]:\n",
    "        mentions = tweet[\"entities\"][\"urls\"]\n",
    "    else:\n",
    "        mentions = []\n",
    "    datum['urls'] = ','.join(mention[\"expanded_url\"] for mention in mentions)\n",
    "    \n",
    "    dataset += [datum]"
   ]
  },
  {
   "cell_type": "code",
   "execution_count": 33,
   "metadata": {},
   "outputs": [
    {
     "data": {
      "text/plain": [
       "'VT,HokieNation,VA2VT,GoHokies,instate,LGH'"
      ]
     },
     "execution_count": 33,
     "metadata": {},
     "output_type": "execute_result"
    }
   ],
   "source": [
    "dataset[4][\"hashtags\"]"
   ]
  },
  {
   "cell_type": "markdown",
   "metadata": {},
   "source": [
    "Load the data into a pandas dataframe for easy manipluation and graphing"
   ]
  },
  {
   "cell_type": "code",
   "execution_count": 34,
   "metadata": {
    "jupyter": {
     "outputs_hidden": false
    }
   },
   "outputs": [
    {
     "data": {
      "text/html": [
       "<div>\n",
       "<style scoped>\n",
       "    .dataframe tbody tr th:only-of-type {\n",
       "        vertical-align: middle;\n",
       "    }\n",
       "\n",
       "    .dataframe tbody tr th {\n",
       "        vertical-align: top;\n",
       "    }\n",
       "\n",
       "    .dataframe thead th {\n",
       "        text-align: right;\n",
       "    }\n",
       "</style>\n",
       "<table border=\"1\" class=\"dataframe\">\n",
       "  <thead>\n",
       "    <tr style=\"text-align: right;\">\n",
       "      <th></th>\n",
       "      <th>created_at</th>\n",
       "      <th>text</th>\n",
       "      <th>hashtags</th>\n",
       "      <th>username</th>\n",
       "      <th>user_followers_count</th>\n",
       "    </tr>\n",
       "  </thead>\n",
       "  <tbody>\n",
       "    <tr>\n",
       "      <th>0</th>\n",
       "      <td>2022-03-29T18:00:11.000Z</td>\n",
       "      <td>TURN THIS BITCH INTO VIRGINIA TECH AYE</td>\n",
       "      <td></td>\n",
       "      <td>gabbiesux</td>\n",
       "      <td>533</td>\n",
       "    </tr>\n",
       "    <tr>\n",
       "      <th>1</th>\n",
       "      <td>2022-03-29T17:59:17.000Z</td>\n",
       "      <td>RT @NCAASoftball: 🆕 @espn/ @USASoftball Colleg...</td>\n",
       "      <td></td>\n",
       "      <td>soonergoat</td>\n",
       "      <td>6949</td>\n",
       "    </tr>\n",
       "    <tr>\n",
       "      <th>2</th>\n",
       "      <td>2022-03-29T17:58:45.000Z</td>\n",
       "      <td>RT @NCAASoftball: 🆕 @espn/ @USASoftball Colleg...</td>\n",
       "      <td></td>\n",
       "      <td>maggiethegk15</td>\n",
       "      <td>601</td>\n",
       "    </tr>\n",
       "    <tr>\n",
       "      <th>3</th>\n",
       "      <td>2022-03-29T17:56:59.000Z</td>\n",
       "      <td>RT @MarchMadnessMBB: ZION. TOOK. OVER 💪💥\\n\\n#O...</td>\n",
       "      <td>OTD,Sweet16</td>\n",
       "      <td>Lucas_Buc</td>\n",
       "      <td>264</td>\n",
       "    </tr>\n",
       "    <tr>\n",
       "      <th>4</th>\n",
       "      <td>2022-03-29T17:56:01.000Z</td>\n",
       "      <td>@_blessed_23 Congratulations Gerard @gerard_jo...</td>\n",
       "      <td>VT,HokieNation,VA2VT,GoHokies,instate,LGH</td>\n",
       "      <td>TDL4VT</td>\n",
       "      <td>1019</td>\n",
       "    </tr>\n",
       "  </tbody>\n",
       "</table>\n",
       "</div>"
      ],
      "text/plain": [
       "                 created_at  \\\n",
       "0  2022-03-29T18:00:11.000Z   \n",
       "1  2022-03-29T17:59:17.000Z   \n",
       "2  2022-03-29T17:58:45.000Z   \n",
       "3  2022-03-29T17:56:59.000Z   \n",
       "4  2022-03-29T17:56:01.000Z   \n",
       "\n",
       "                                                text  \\\n",
       "0             TURN THIS BITCH INTO VIRGINIA TECH AYE   \n",
       "1  RT @NCAASoftball: 🆕 @espn/ @USASoftball Colleg...   \n",
       "2  RT @NCAASoftball: 🆕 @espn/ @USASoftball Colleg...   \n",
       "3  RT @MarchMadnessMBB: ZION. TOOK. OVER 💪💥\\n\\n#O...   \n",
       "4  @_blessed_23 Congratulations Gerard @gerard_jo...   \n",
       "\n",
       "                                    hashtags       username  \\\n",
       "0                                                 gabbiesux   \n",
       "1                                                soonergoat   \n",
       "2                                             maggiethegk15   \n",
       "3                                OTD,Sweet16      Lucas_Buc   \n",
       "4  VT,HokieNation,VA2VT,GoHokies,instate,LGH         TDL4VT   \n",
       "\n",
       "   user_followers_count  \n",
       "0                   533  \n",
       "1                  6949  \n",
       "2                   601  \n",
       "3                   264  \n",
       "4                  1019  "
      ]
     },
     "execution_count": 34,
     "metadata": {},
     "output_type": "execute_result"
    }
   ],
   "source": [
    "import pandas as pd\n",
    "df = pd.DataFrame.from_dict(dataset)\n",
    "df[['created_at','text','hashtags','username','user_followers_count']].head()"
   ]
  },
  {
   "cell_type": "markdown",
   "metadata": {},
   "source": [
    "Plot a histograms of the number of tweets being retweeted"
   ]
  },
  {
   "cell_type": "code",
   "execution_count": 35,
   "metadata": {
    "jupyter": {
     "outputs_hidden": false
    }
   },
   "outputs": [
    {
     "data": {
      "image/png": "[encoded data removed]",
      "text/plain": [
       "<Figure size 432x288 with 1 Axes>"
      ]
     },
     "metadata": {
      "needs_background": "light"
     },
     "output_type": "display_data"
    }
   ],
   "source": [
    "import matplotlib.pyplot as plt\n",
    "ax = df['retweet_count'].plot.hist(bins=20)\n",
    "ax.set_xlabel(\"# of retweets\")\n",
    "plt.show()"
   ]
  },
  {
   "cell_type": "markdown",
   "metadata": {},
   "source": [
    "Plot the 95th percentile of the same"
   ]
  },
  {
   "cell_type": "code",
   "execution_count": 36,
   "metadata": {
    "jupyter": {
     "outputs_hidden": false
    }
   },
   "outputs": [
    {
     "data": {
      "image/png": "[encoded data removed]",
      "text/plain": [
       "<Figure size 432x288 with 1 Axes>"
      ]
     },
     "metadata": {
      "needs_background": "light"
     },
     "output_type": "display_data"
    }
   ],
   "source": [
    "import numpy as np\n",
    "filtered_df = df[df['retweet_count'] <= np.percentile(df['retweet_count'], 95)]\n",
    "filtered_df['retweet_count'].plot.hist(bins=20)\n",
    "plt.show()"
   ]
  },
  {
   "cell_type": "code",
   "execution_count": 37,
   "metadata": {
    "jupyter": {
     "outputs_hidden": false
    }
   },
   "outputs": [],
   "source": [
    "from collections import Counter\n",
    "hashtag_counter = Counter()\n",
    "for hts in df['hashtags'].values:\n",
    "    hts = [t for t in hts.split(',') if len(t) > 0]\n",
    "    hashtag_counter.update(hts)"
   ]
  },
  {
   "cell_type": "code",
   "execution_count": 38,
   "metadata": {
    "jupyter": {
     "outputs_hidden": false
    }
   },
   "outputs": [
    {
     "name": "stdout",
     "output_type": "stream",
     "text": [
      "('OTD', 74)\n",
      "('Sweet16', 74)\n",
      "('Hokies', 34)\n",
      "('AGTG', 29)\n",
      "('GoHokies', 19)\n",
      "('D1Softball', 15)\n",
      "('UCF', 3)\n",
      "('TSL', 3)\n",
      "('Virginia', 3)\n",
      "('business', 2)\n"
     ]
    }
   ],
   "source": [
    "import operator\n",
    "sorted_cntr = sorted(hashtag_counter.items(), key=lambda x: x[1],reverse=True)\n",
    "for tag in hashtag_counter.most_common(10):\n",
    "    print(tag)"
   ]
  },
  {
   "cell_type": "markdown",
   "metadata": {},
   "source": [
    "Build a new dataframe with just the tweets containing a tag with hokies in it"
   ]
  },
  {
   "cell_type": "code",
   "execution_count": 39,
   "metadata": {
    "jupyter": {
     "outputs_hidden": false
    }
   },
   "outputs": [
    {
     "data": {
      "text/plain": [
       "57"
      ]
     },
     "execution_count": 39,
     "metadata": {},
     "output_type": "execute_result"
    }
   ],
   "source": [
    "hokie_ht = df[df['hashtags'].str.contains('hokies', case=False)]\n",
    "len(hokie_ht)"
   ]
  },
  {
   "cell_type": "code",
   "execution_count": 40,
   "metadata": {
    "jupyter": {
     "outputs_hidden": false
    }
   },
   "outputs": [
    {
     "name": "stdout",
     "output_type": "stream",
     "text": [
      "('Virginia Tech', 35)\n",
      "('New', 7)\n",
      "('G_Wimb', 7)\n",
      "('Virginia', 6)\n",
      "('Virginia Tech WR Jaden Payoute', 4)\n",
      "('Tech', 3)\n",
      "('Which Virginia Tech QB', 3)\n",
      "('Great', 2)\n",
      "('Gerard', 1)\n",
      "('VA2VT', 1)\n"
     ]
    }
   ],
   "source": [
    "entities_cntr = Counter()\n",
    "for ht in hokie_ht['text'].values:\n",
    "    entities_cntr.update(nltk_entities(ht))  # use nltk to extract entities\n",
    "\n",
    "for tag in entities_cntr.most_common(10):\n",
    "    print(tag)"
   ]
  },
  {
   "cell_type": "code",
   "execution_count": 41,
   "metadata": {},
   "outputs": [
    {
     "data": {
      "text/html": [
       "<div>\n",
       "<style scoped>\n",
       "    .dataframe tbody tr th:only-of-type {\n",
       "        vertical-align: middle;\n",
       "    }\n",
       "\n",
       "    .dataframe tbody tr th {\n",
       "        vertical-align: top;\n",
       "    }\n",
       "\n",
       "    .dataframe thead th {\n",
       "        text-align: right;\n",
       "    }\n",
       "</style>\n",
       "<table border=\"1\" class=\"dataframe\">\n",
       "  <thead>\n",
       "    <tr style=\"text-align: right;\">\n",
       "      <th></th>\n",
       "      <th>count</th>\n",
       "    </tr>\n",
       "  </thead>\n",
       "  <tbody>\n",
       "    <tr>\n",
       "      <th>Virginia Tech</th>\n",
       "      <td>35</td>\n",
       "    </tr>\n",
       "    <tr>\n",
       "      <th>New</th>\n",
       "      <td>7</td>\n",
       "    </tr>\n",
       "    <tr>\n",
       "      <th>G_Wimb</th>\n",
       "      <td>7</td>\n",
       "    </tr>\n",
       "    <tr>\n",
       "      <th>Virginia</th>\n",
       "      <td>6</td>\n",
       "    </tr>\n",
       "    <tr>\n",
       "      <th>Virginia Tech WR Jaden Payoute</th>\n",
       "      <td>4</td>\n",
       "    </tr>\n",
       "    <tr>\n",
       "      <th>Tech</th>\n",
       "      <td>3</td>\n",
       "    </tr>\n",
       "    <tr>\n",
       "      <th>Which Virginia Tech QB</th>\n",
       "      <td>3</td>\n",
       "    </tr>\n",
       "    <tr>\n",
       "      <th>Great</th>\n",
       "      <td>2</td>\n",
       "    </tr>\n",
       "    <tr>\n",
       "      <th>Gerard</th>\n",
       "      <td>1</td>\n",
       "    </tr>\n",
       "    <tr>\n",
       "      <th>VA2VT</th>\n",
       "      <td>1</td>\n",
       "    </tr>\n",
       "  </tbody>\n",
       "</table>\n",
       "</div>"
      ],
      "text/plain": [
       "                                count\n",
       "Virginia Tech                      35\n",
       "New                                 7\n",
       "G_Wimb                              7\n",
       "Virginia                            6\n",
       "Virginia Tech WR Jaden Payoute      4\n",
       "Tech                                3\n",
       "Which Virginia Tech QB              3\n",
       "Great                               2\n",
       "Gerard                              1\n",
       "VA2VT                               1"
      ]
     },
     "execution_count": 41,
     "metadata": {},
     "output_type": "execute_result"
    }
   ],
   "source": [
    "edf = pd.DataFrame.from_dict(dict(entities_cntr.most_common(10)), columns=[\"count\"], orient=\"index\")\n",
    "edf"
   ]
  },
  {
   "cell_type": "code",
   "execution_count": 42,
   "metadata": {},
   "outputs": [
    {
     "data": {
      "image/png": "[encoded data removed]",
      "text/plain": [
       "<Figure size 432x288 with 1 Axes>"
      ]
     },
     "metadata": {
      "needs_background": "light"
     },
     "output_type": "display_data"
    }
   ],
   "source": [
    "edf.plot.bar();"
   ]
  },
  {
   "cell_type": "code",
   "execution_count": null,
   "metadata": {},
   "outputs": [],
   "source": []
  }
 ],
 "metadata": {
  "kernelspec": {
   "display_name": "Python 3 (ipykernel)",
   "language": "python",
   "name": "python3"
  },
  "language_info": {
   "codemirror_mode": {
    "name": "ipython",
    "version": 3
   },
   "file_extension": ".py",
   "mimetype": "text/x-python",
   "name": "python",
   "nbconvert_exporter": "python",
   "pygments_lexer": "ipython3",
   "version": "3.9.7"
  }
 },
 "nbformat": 4,
 "nbformat_minor": 4
}
